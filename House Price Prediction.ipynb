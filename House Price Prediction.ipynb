{
 "cells": [
  {
   "cell_type": "code",
   "execution_count": 1,
   "id": "0f8f0dfc",
   "metadata": {
    "execution": {
     "iopub.execute_input": "2023-05-27T16:44:14.673425Z",
     "iopub.status.busy": "2023-05-27T16:44:14.672715Z",
     "iopub.status.idle": "2023-05-27T16:44:16.055255Z",
     "shell.execute_reply": "2023-05-27T16:44:16.054180Z"
    },
    "papermill": {
     "duration": 1.393011,
     "end_time": "2023-05-27T16:44:16.057806",
     "exception": false,
     "start_time": "2023-05-27T16:44:14.664795",
     "status": "completed"
    },
    "tags": []
   },
   "outputs": [],
   "source": [
    "import numpy as np\n",
    "import seaborn as sns\n",
    "import matplotlib.pyplot as plt\n",
    "import pandas as pd"
   ]
  },
  {
   "cell_type": "code",
   "execution_count": 2,
   "id": "e9e3e474",
   "metadata": {
    "execution": {
     "iopub.execute_input": "2023-05-27T16:44:16.073007Z",
     "iopub.status.busy": "2023-05-27T16:44:16.072509Z",
     "iopub.status.idle": "2023-05-27T16:44:16.145043Z",
     "shell.execute_reply": "2023-05-27T16:44:16.144028Z"
    },
    "papermill": {
     "duration": 0.082964,
     "end_time": "2023-05-27T16:44:16.147659",
     "exception": false,
     "start_time": "2023-05-27T16:44:16.064695",
     "status": "completed"
    },
    "tags": []
   },
   "outputs": [],
   "source": [
    "train_df = pd.read_csv(\"train.csv\")\n",
    "test_df = pd.read_csv(\"test.csv\")"
   ]
  },
  {
   "cell_type": "code",
   "execution_count": 3,
   "id": "02ebdf72",
   "metadata": {
    "execution": {
     "iopub.execute_input": "2023-05-27T16:44:16.164695Z",
     "iopub.status.busy": "2023-05-27T16:44:16.164011Z",
     "iopub.status.idle": "2023-05-27T16:44:16.168255Z",
     "shell.execute_reply": "2023-05-27T16:44:16.167338Z"
    },
    "papermill": {
     "duration": 0.014031,
     "end_time": "2023-05-27T16:44:16.170171",
     "exception": false,
     "start_time": "2023-05-27T16:44:16.156140",
     "status": "completed"
    },
    "tags": []
   },
   "outputs": [],
   "source": [
    "# train_df.info()"
   ]
  },
  {
   "cell_type": "code",
   "execution_count": 4,
   "id": "e8d5129d",
   "metadata": {
    "execution": {
     "iopub.execute_input": "2023-05-27T16:44:16.185927Z",
     "iopub.status.busy": "2023-05-27T16:44:16.185186Z",
     "iopub.status.idle": "2023-05-27T16:44:16.202199Z",
     "shell.execute_reply": "2023-05-27T16:44:16.201044Z"
    },
    "papermill": {
     "duration": 0.027396,
     "end_time": "2023-05-27T16:44:16.204490",
     "exception": false,
     "start_time": "2023-05-27T16:44:16.177094",
     "status": "completed"
    },
    "tags": []
   },
   "outputs": [],
   "source": [
    "train_df=train_df.drop(['Alley','PoolQC','Fence','MiscFeature'],axis=1)\n",
    "train_df.drop(['Id'],axis=1,inplace=True)"
   ]
  },
  {
   "cell_type": "code",
   "execution_count": 5,
   "id": "28eae5bb",
   "metadata": {
    "execution": {
     "iopub.execute_input": "2023-05-27T16:44:16.220471Z",
     "iopub.status.busy": "2023-05-27T16:44:16.219808Z",
     "iopub.status.idle": "2023-05-27T16:44:16.253166Z",
     "shell.execute_reply": "2023-05-27T16:44:16.251635Z"
    },
    "papermill": {
     "duration": 0.044119,
     "end_time": "2023-05-27T16:44:16.255453",
     "exception": false,
     "start_time": "2023-05-27T16:44:16.211334",
     "status": "completed"
    },
    "tags": []
   },
   "outputs": [
    {
     "name": "stdout",
     "output_type": "stream",
     "text": [
      "<class 'pandas.core.frame.DataFrame'>\n",
      "RangeIndex: 1460 entries, 0 to 1459\n",
      "Data columns (total 75 columns):\n",
      " #   Column         Non-Null Count  Dtype  \n",
      "---  ------         --------------  -----  \n",
      " 0   MSSubClass     1460 non-null   int64  \n",
      " 1   MSZoning       1460 non-null   object \n",
      " 2   LotFrontage    1201 non-null   float64\n",
      " 3   LotArea        1460 non-null   int64  \n",
      " 4   Street         1460 non-null   object \n",
      " 5   LotShape       1460 non-null   object \n",
      " 6   LandContour    1460 non-null   object \n",
      " 7   Utilities      1460 non-null   object \n",
      " 8   LotConfig      1460 non-null   object \n",
      " 9   LandSlope      1460 non-null   object \n",
      " 10  Neighborhood   1460 non-null   object \n",
      " 11  Condition1     1460 non-null   object \n",
      " 12  Condition2     1460 non-null   object \n",
      " 13  BldgType       1460 non-null   object \n",
      " 14  HouseStyle     1460 non-null   object \n",
      " 15  OverallQual    1460 non-null   int64  \n",
      " 16  OverallCond    1460 non-null   int64  \n",
      " 17  YearBuilt      1460 non-null   int64  \n",
      " 18  YearRemodAdd   1460 non-null   int64  \n",
      " 19  RoofStyle      1460 non-null   object \n",
      " 20  RoofMatl       1460 non-null   object \n",
      " 21  Exterior1st    1460 non-null   object \n",
      " 22  Exterior2nd    1460 non-null   object \n",
      " 23  MasVnrType     1452 non-null   object \n",
      " 24  MasVnrArea     1452 non-null   float64\n",
      " 25  ExterQual      1460 non-null   object \n",
      " 26  ExterCond      1460 non-null   object \n",
      " 27  Foundation     1460 non-null   object \n",
      " 28  BsmtQual       1423 non-null   object \n",
      " 29  BsmtCond       1423 non-null   object \n",
      " 30  BsmtExposure   1422 non-null   object \n",
      " 31  BsmtFinType1   1423 non-null   object \n",
      " 32  BsmtFinSF1     1460 non-null   int64  \n",
      " 33  BsmtFinType2   1422 non-null   object \n",
      " 34  BsmtFinSF2     1460 non-null   int64  \n",
      " 35  BsmtUnfSF      1460 non-null   int64  \n",
      " 36  TotalBsmtSF    1460 non-null   int64  \n",
      " 37  Heating        1460 non-null   object \n",
      " 38  HeatingQC      1460 non-null   object \n",
      " 39  CentralAir     1460 non-null   object \n",
      " 40  Electrical     1459 non-null   object \n",
      " 41  1stFlrSF       1460 non-null   int64  \n",
      " 42  2ndFlrSF       1460 non-null   int64  \n",
      " 43  LowQualFinSF   1460 non-null   int64  \n",
      " 44  GrLivArea      1460 non-null   int64  \n",
      " 45  BsmtFullBath   1460 non-null   int64  \n",
      " 46  BsmtHalfBath   1460 non-null   int64  \n",
      " 47  FullBath       1460 non-null   int64  \n",
      " 48  HalfBath       1460 non-null   int64  \n",
      " 49  BedroomAbvGr   1460 non-null   int64  \n",
      " 50  KitchenAbvGr   1460 non-null   int64  \n",
      " 51  KitchenQual    1460 non-null   object \n",
      " 52  TotRmsAbvGrd   1460 non-null   int64  \n",
      " 53  Functional     1460 non-null   object \n",
      " 54  Fireplaces     1460 non-null   int64  \n",
      " 55  GarageType     1379 non-null   object \n",
      " 56  GarageYrBlt    1379 non-null   float64\n",
      " 57  GarageFinish   1379 non-null   object \n",
      " 58  GarageCars     1460 non-null   int64  \n",
      " 59  GarageArea     1460 non-null   int64  \n",
      " 60  GarageQual     1379 non-null   object \n",
      " 61  GarageCond     1379 non-null   object \n",
      " 62  PavedDrive     1460 non-null   object \n",
      " 63  WoodDeckSF     1460 non-null   int64  \n",
      " 64  OpenPorchSF    1460 non-null   int64  \n",
      " 65  EnclosedPorch  1460 non-null   int64  \n",
      " 66  3SsnPorch      1460 non-null   int64  \n",
      " 67  ScreenPorch    1460 non-null   int64  \n",
      " 68  PoolArea       1460 non-null   int64  \n",
      " 69  MiscVal        1460 non-null   int64  \n",
      " 70  MoSold         1460 non-null   int64  \n",
      " 71  YrSold         1460 non-null   int64  \n",
      " 72  SaleType       1460 non-null   object \n",
      " 73  SaleCondition  1460 non-null   object \n",
      " 74  SalePrice      1460 non-null   int64  \n",
      "dtypes: float64(3), int64(34), object(38)\n",
      "memory usage: 855.6+ KB\n"
     ]
    }
   ],
   "source": [
    "train_df = train_df.drop('FireplaceQu',axis=1)\n",
    "train_df.info()"
   ]
  },
  {
   "cell_type": "code",
   "execution_count": 6,
   "id": "d6776b75",
   "metadata": {
    "execution": {
     "iopub.execute_input": "2023-05-27T16:44:16.271511Z",
     "iopub.status.busy": "2023-05-27T16:44:16.271163Z",
     "iopub.status.idle": "2023-05-27T16:44:16.294607Z",
     "shell.execute_reply": "2023-05-27T16:44:16.293671Z"
    },
    "papermill": {
     "duration": 0.034453,
     "end_time": "2023-05-27T16:44:16.297046",
     "exception": false,
     "start_time": "2023-05-27T16:44:16.262593",
     "status": "completed"
    },
    "tags": []
   },
   "outputs": [],
   "source": [
    "train_df['BsmtQual'] = train_df['BsmtQual'].fillna(train_df['BsmtQual'].mode()[0])\n",
    "train_df['BsmtCond'] = train_df['BsmtCond'].fillna(train_df['BsmtCond'].mode()[0])\n",
    "train_df['BsmtExposure'] = train_df['BsmtExposure'].fillna(train_df['BsmtExposure'].mode()[0])\n",
    "train_df['BsmtFinType1'] = train_df['BsmtFinType1'].fillna(train_df['BsmtFinType1'].mode()[0])\n",
    "train_df['BsmtFinType2'] = train_df['BsmtFinType2'].fillna(train_df['BsmtFinType2'].mode()[0])\n",
    "train_df['GarageType'] = train_df['GarageType'].fillna(train_df['GarageType'].mode()[0])\n",
    "train_df['GarageFinish'] = train_df['GarageFinish'].fillna(train_df['GarageFinish'].mode()[0])\n",
    "train_df['GarageQual'] = train_df['GarageQual'].fillna(train_df['GarageQual'].mode()[0])\n",
    "train_df['GarageCond'] = train_df['GarageCond'].fillna(train_df['GarageCond'].mode()[0])\n",
    "train_df['MasVnrType'] = train_df['MasVnrType'].fillna(train_df['MasVnrType'].mode()[0])\n",
    "train_df['Electrical'] = train_df['Electrical'].fillna(train_df['Electrical'].mode()[0])"
   ]
  },
  {
   "cell_type": "code",
   "execution_count": 7,
   "id": "fae7cf53",
   "metadata": {
    "execution": {
     "iopub.execute_input": "2023-05-27T16:44:16.313188Z",
     "iopub.status.busy": "2023-05-27T16:44:16.312826Z",
     "iopub.status.idle": "2023-05-27T16:44:16.321759Z",
     "shell.execute_reply": "2023-05-27T16:44:16.320790Z"
    },
    "papermill": {
     "duration": 0.019709,
     "end_time": "2023-05-27T16:44:16.324133",
     "exception": false,
     "start_time": "2023-05-27T16:44:16.304424",
     "status": "completed"
    },
    "tags": []
   },
   "outputs": [],
   "source": [
    "train_df['LotFrontage'] = train_df['LotFrontage'].fillna(train_df['LotFrontage'].mean())\n",
    "train_df['MasVnrArea'] = train_df['MasVnrArea'].fillna(train_df['MasVnrArea'].mean())\n",
    "train_df['GarageYrBlt'] = train_df['GarageYrBlt'].fillna(train_df['GarageYrBlt'].mean())\n",
    "train_df['MasVnrArea'] = train_df['MasVnrArea'].fillna(train_df['MasVnrArea'].mean())"
   ]
  },
  {
   "cell_type": "code",
   "execution_count": 8,
   "id": "48cea332",
   "metadata": {
    "execution": {
     "iopub.execute_input": "2023-05-27T16:44:16.340436Z",
     "iopub.status.busy": "2023-05-27T16:44:16.340084Z",
     "iopub.status.idle": "2023-05-27T16:44:17.723226Z",
     "shell.execute_reply": "2023-05-27T16:44:17.722148Z"
    },
    "papermill": {
     "duration": 1.394784,
     "end_time": "2023-05-27T16:44:17.725903",
     "exception": false,
     "start_time": "2023-05-27T16:44:16.331119",
     "status": "completed"
    },
    "tags": []
   },
   "outputs": [
    {
     "data": {
      "text/plain": [
       "<AxesSubplot:>"
      ]
     },
     "execution_count": 8,
     "metadata": {},
     "output_type": "execute_result"
    },
    {
     "data": {
      "image/png": "[encoded data removed]",
      "text/plain": [
       "<Figure size 1600x1200 with 2 Axes>"
      ]
     },
     "metadata": {},
     "output_type": "display_data"
    }
   ],
   "source": [
    "plt.figure(figsize=(16,12))\n",
    "sns.heatmap(train_df.isnull())"
   ]
  },
  {
   "cell_type": "code",
   "execution_count": 9,
   "id": "d803a0ae",
   "metadata": {
    "execution": {
     "iopub.execute_input": "2023-05-27T16:44:17.745204Z",
     "iopub.status.busy": "2023-05-27T16:44:17.744830Z",
     "iopub.status.idle": "2023-05-27T16:44:17.749166Z",
     "shell.execute_reply": "2023-05-27T16:44:17.748233Z"
    },
    "papermill": {
     "duration": 0.016582,
     "end_time": "2023-05-27T16:44:17.751360",
     "exception": false,
     "start_time": "2023-05-27T16:44:17.734778",
     "status": "completed"
    },
    "tags": []
   },
   "outputs": [],
   "source": [
    "# test_df.info()"
   ]
  },
  {
   "cell_type": "code",
   "execution_count": 10,
   "id": "7dc61a69",
   "metadata": {
    "execution": {
     "iopub.execute_input": "2023-05-27T16:44:17.771297Z",
     "iopub.status.busy": "2023-05-27T16:44:17.770901Z",
     "iopub.status.idle": "2023-05-27T16:44:17.777679Z",
     "shell.execute_reply": "2023-05-27T16:44:17.776819Z"
    },
    "papermill": {
     "duration": 0.019464,
     "end_time": "2023-05-27T16:44:17.779890",
     "exception": false,
     "start_time": "2023-05-27T16:44:17.760426",
     "status": "completed"
    },
    "tags": []
   },
   "outputs": [],
   "source": [
    "test_df=test_df.drop(['Alley','PoolQC','Fence','MiscFeature','Id'],axis=1)"
   ]
  },
  {
   "cell_type": "code",
   "execution_count": 11,
   "id": "cb4c98aa",
   "metadata": {
    "execution": {
     "iopub.execute_input": "2023-05-27T16:44:17.799852Z",
     "iopub.status.busy": "2023-05-27T16:44:17.799463Z",
     "iopub.status.idle": "2023-05-27T16:44:17.803370Z",
     "shell.execute_reply": "2023-05-27T16:44:17.802528Z"
    },
    "papermill": {
     "duration": 0.016174,
     "end_time": "2023-05-27T16:44:17.805251",
     "exception": false,
     "start_time": "2023-05-27T16:44:17.789077",
     "status": "completed"
    },
    "tags": []
   },
   "outputs": [],
   "source": [
    "# test_df.info()"
   ]
  },
  {
   "cell_type": "code",
   "execution_count": 12,
   "id": "b6f1bc15",
   "metadata": {
    "execution": {
     "iopub.execute_input": "2023-05-27T16:44:17.824182Z",
     "iopub.status.busy": "2023-05-27T16:44:17.823826Z",
     "iopub.status.idle": "2023-05-27T16:44:17.830792Z",
     "shell.execute_reply": "2023-05-27T16:44:17.829703Z"
    },
    "papermill": {
     "duration": 0.018741,
     "end_time": "2023-05-27T16:44:17.832697",
     "exception": false,
     "start_time": "2023-05-27T16:44:17.813956",
     "status": "completed"
    },
    "tags": []
   },
   "outputs": [],
   "source": [
    "test_df = test_df.drop('FireplaceQu',axis=1)"
   ]
  },
  {
   "cell_type": "code",
   "execution_count": 13,
   "id": "d3d0275e",
   "metadata": {
    "execution": {
     "iopub.execute_input": "2023-05-27T16:44:17.852302Z",
     "iopub.status.busy": "2023-05-27T16:44:17.851670Z",
     "iopub.status.idle": "2023-05-27T16:44:17.888959Z",
     "shell.execute_reply": "2023-05-27T16:44:17.887874Z"
    },
    "papermill": {
     "duration": 0.049967,
     "end_time": "2023-05-27T16:44:17.891554",
     "exception": false,
     "start_time": "2023-05-27T16:44:17.841587",
     "status": "completed"
    },
    "tags": []
   },
   "outputs": [],
   "source": [
    "test_df['MSZoning'] = train_df['MSZoning'].fillna(train_df['MSZoning'].mode()[0])\n",
    "test_df['Utilities'] = train_df['Utilities'].fillna(train_df['Utilities'].mode()[0])\n",
    "test_df['Exterior1st'] = train_df['Exterior1st'].fillna(train_df['Exterior1st'].mode()[0])\n",
    "test_df['Exterior2nd'] = train_df['Exterior2nd'].fillna(train_df['Exterior2nd'].mode()[0])\n",
    "test_df['MasVnrType'] = train_df['MasVnrType'].fillna(train_df['MasVnrType'].mode()[0])\n",
    "test_df['BsmtQual'] = train_df['BsmtQual'].fillna(train_df['BsmtQual'].mode()[0])\n",
    "test_df['BsmtCond'] = train_df['BsmtCond'].fillna(train_df['BsmtCond'].mode()[0])\n",
    "test_df['BsmtExposure'] = train_df['BsmtExposure'].fillna(train_df['BsmtExposure'].mode()[0])\n",
    "test_df['BsmtFinType1'] = train_df['BsmtFinType1'].fillna(train_df['BsmtFinType1'].mode()[0])\n",
    "test_df['BsmtFinType2'] = train_df['BsmtFinType2'].fillna(train_df['BsmtFinType2'].mode()[0])\n",
    "test_df['KitchenQual'] = train_df['KitchenQual'].fillna(train_df['KitchenQual'].mode()[0])\n",
    "test_df['Functional'] = train_df['Functional'].fillna(train_df['Functional'].mode()[0])\n",
    "test_df['GarageType'] = train_df['GarageType'].fillna(train_df['GarageType'].mode()[0])\n",
    "test_df['GarageFinish'] = train_df['GarageFinish'].fillna(train_df['GarageFinish'].mode()[0])\n",
    "test_df['GarageQual'] = train_df['GarageQual'].fillna(train_df['GarageQual'].mode()[0])\n",
    "test_df['GarageCond'] = train_df['GarageCond'].fillna(train_df['GarageCond'].mode()[0])\n",
    "test_df['SaleType'] = train_df['SaleType'].fillna(train_df['SaleType'].mode()[0])"
   ]
  },
  {
   "cell_type": "code",
   "execution_count": 14,
   "id": "5a7ddf5e",
   "metadata": {
    "execution": {
     "iopub.execute_input": "2023-05-27T16:44:17.911313Z",
     "iopub.status.busy": "2023-05-27T16:44:17.910547Z",
     "iopub.status.idle": "2023-05-27T16:44:17.926216Z",
     "shell.execute_reply": "2023-05-27T16:44:17.925039Z"
    },
    "papermill": {
     "duration": 0.028257,
     "end_time": "2023-05-27T16:44:17.928806",
     "exception": false,
     "start_time": "2023-05-27T16:44:17.900549",
     "status": "completed"
    },
    "tags": []
   },
   "outputs": [],
   "source": [
    "test_df['LotFrontage'] = test_df['MasVnrArea'].fillna(test_df['MasVnrArea'].mean())\n",
    "test_df['MasVnrArea'] = test_df['MasVnrArea'].fillna(test_df['MasVnrArea'].mean())\n",
    "test_df['BsmtFinSF1'] = test_df['BsmtFinSF1'].fillna(test_df['BsmtFinSF1'].mean())\n",
    "test_df['BsmtFinSF2'] = test_df['BsmtFinSF2'].fillna(test_df['BsmtFinSF2'].mean())\n",
    "test_df['BsmtUnfSF'] = test_df['BsmtUnfSF'].fillna(test_df['BsmtUnfSF'].mean())\n",
    "test_df['TotalBsmtSF'] = test_df['TotalBsmtSF'].fillna(test_df['TotalBsmtSF'].mean())\n",
    "test_df['BsmtFullBath'] = test_df['BsmtFullBath'].fillna(test_df['BsmtFullBath'].mean())\n",
    "test_df['BsmtHalfBath'] = test_df['BsmtHalfBath'].fillna(test_df['BsmtHalfBath'].mean())\n",
    "test_df['GarageCars'] = test_df['GarageCars'].fillna(test_df['GarageCars'].mean())\n",
    "test_df['GarageArea'] = test_df['GarageArea'].fillna(test_df['GarageArea'].mean())\n",
    "test_df['GarageYrBlt'] = test_df['GarageYrBlt'].fillna(test_df['GarageYrBlt'].mean())"
   ]
  },
  {
   "cell_type": "code",
   "execution_count": 15,
   "id": "982f4100",
   "metadata": {
    "execution": {
     "iopub.execute_input": "2023-05-27T16:44:17.948098Z",
     "iopub.status.busy": "2023-05-27T16:44:17.947673Z",
     "iopub.status.idle": "2023-05-27T16:44:17.952165Z",
     "shell.execute_reply": "2023-05-27T16:44:17.951167Z"
    },
    "papermill": {
     "duration": 0.016562,
     "end_time": "2023-05-27T16:44:17.954233",
     "exception": false,
     "start_time": "2023-05-27T16:44:17.937671",
     "status": "completed"
    },
    "tags": []
   },
   "outputs": [],
   "source": [
    "# test_df.info()"
   ]
  },
  {
   "cell_type": "code",
   "execution_count": 16,
   "id": "0566d9fb",
   "metadata": {
    "execution": {
     "iopub.execute_input": "2023-05-27T16:44:17.973477Z",
     "iopub.status.busy": "2023-05-27T16:44:17.973107Z",
     "iopub.status.idle": "2023-05-27T16:44:17.979860Z",
     "shell.execute_reply": "2023-05-27T16:44:17.978763Z"
    },
    "papermill": {
     "duration": 0.018916,
     "end_time": "2023-05-27T16:44:17.982007",
     "exception": false,
     "start_time": "2023-05-27T16:44:17.963091",
     "status": "completed"
    },
    "tags": []
   },
   "outputs": [
    {
     "data": {
      "text/plain": [
       "(1459, 74)"
      ]
     },
     "execution_count": 16,
     "metadata": {},
     "output_type": "execute_result"
    }
   ],
   "source": [
    "test_df.shape"
   ]
  },
  {
   "cell_type": "code",
   "execution_count": 17,
   "id": "c55d4d40",
   "metadata": {
    "execution": {
     "iopub.execute_input": "2023-05-27T16:44:18.001756Z",
     "iopub.status.busy": "2023-05-27T16:44:18.001359Z",
     "iopub.status.idle": "2023-05-27T16:44:18.803374Z",
     "shell.execute_reply": "2023-05-27T16:44:18.801952Z"
    },
    "papermill": {
     "duration": 0.814904,
     "end_time": "2023-05-27T16:44:18.806204",
     "exception": false,
     "start_time": "2023-05-27T16:44:17.991300",
     "status": "completed"
    },
    "tags": []
   },
   "outputs": [
    {
     "data": {
      "text/plain": [
       "<AxesSubplot:>"
      ]
     },
     "execution_count": 17,
     "metadata": {},
     "output_type": "execute_result"
    },
    {
     "data": {
      "image/png": "[encoded data removed]",
      "text/plain": [
       "<Figure size 640x480 with 2 Axes>"
      ]
     },
     "metadata": {},
     "output_type": "display_data"
    }
   ],
   "source": [
    "sns.heatmap(test_df.isnull(),cmap='hot')"
   ]
  },
  {
   "cell_type": "code",
   "execution_count": 18,
   "id": "565e8d4c",
   "metadata": {
    "execution": {
     "iopub.execute_input": "2023-05-27T16:44:18.829049Z",
     "iopub.status.busy": "2023-05-27T16:44:18.828637Z",
     "iopub.status.idle": "2023-05-27T16:44:18.869300Z",
     "shell.execute_reply": "2023-05-27T16:44:18.868213Z"
    },
    "papermill": {
     "duration": 0.054721,
     "end_time": "2023-05-27T16:44:18.871452",
     "exception": false,
     "start_time": "2023-05-27T16:44:18.816731",
     "status": "completed"
    },
    "tags": []
   },
   "outputs": [
    {
     "data": {
      "text/html": [
       "<div>\n",
       "<style scoped>\n",
       "    .dataframe tbody tr th:only-of-type {\n",
       "        vertical-align: middle;\n",
       "    }\n",
       "\n",
       "    .dataframe tbody tr th {\n",
       "        vertical-align: top;\n",
       "    }\n",
       "\n",
       "    .dataframe thead th {\n",
       "        text-align: right;\n",
       "    }\n",
       "</style>\n",
       "<table border=\"1\" class=\"dataframe\">\n",
       "  <thead>\n",
       "    <tr style=\"text-align: right;\">\n",
       "      <th></th>\n",
       "      <th>MSSubClass</th>\n",
       "      <th>MSZoning</th>\n",
       "      <th>LotFrontage</th>\n",
       "      <th>LotArea</th>\n",
       "      <th>Street</th>\n",
       "      <th>LotShape</th>\n",
       "      <th>LandContour</th>\n",
       "      <th>Utilities</th>\n",
       "      <th>LotConfig</th>\n",
       "      <th>LandSlope</th>\n",
       "      <th>...</th>\n",
       "      <th>EnclosedPorch</th>\n",
       "      <th>3SsnPorch</th>\n",
       "      <th>ScreenPorch</th>\n",
       "      <th>PoolArea</th>\n",
       "      <th>MiscVal</th>\n",
       "      <th>MoSold</th>\n",
       "      <th>YrSold</th>\n",
       "      <th>SaleType</th>\n",
       "      <th>SaleCondition</th>\n",
       "      <th>SalePrice</th>\n",
       "    </tr>\n",
       "  </thead>\n",
       "  <tbody>\n",
       "    <tr>\n",
       "      <th>0</th>\n",
       "      <td>60</td>\n",
       "      <td>RL</td>\n",
       "      <td>65.0</td>\n",
       "      <td>8450</td>\n",
       "      <td>Pave</td>\n",
       "      <td>Reg</td>\n",
       "      <td>Lvl</td>\n",
       "      <td>AllPub</td>\n",
       "      <td>Inside</td>\n",
       "      <td>Gtl</td>\n",
       "      <td>...</td>\n",
       "      <td>0</td>\n",
       "      <td>0</td>\n",
       "      <td>0</td>\n",
       "      <td>0</td>\n",
       "      <td>0</td>\n",
       "      <td>2</td>\n",
       "      <td>2008</td>\n",
       "      <td>WD</td>\n",
       "      <td>Normal</td>\n",
       "      <td>208500</td>\n",
       "    </tr>\n",
       "    <tr>\n",
       "      <th>1</th>\n",
       "      <td>20</td>\n",
       "      <td>RL</td>\n",
       "      <td>80.0</td>\n",
       "      <td>9600</td>\n",
       "      <td>Pave</td>\n",
       "      <td>Reg</td>\n",
       "      <td>Lvl</td>\n",
       "      <td>AllPub</td>\n",
       "      <td>FR2</td>\n",
       "      <td>Gtl</td>\n",
       "      <td>...</td>\n",
       "      <td>0</td>\n",
       "      <td>0</td>\n",
       "      <td>0</td>\n",
       "      <td>0</td>\n",
       "      <td>0</td>\n",
       "      <td>5</td>\n",
       "      <td>2007</td>\n",
       "      <td>WD</td>\n",
       "      <td>Normal</td>\n",
       "      <td>181500</td>\n",
       "    </tr>\n",
       "    <tr>\n",
       "      <th>2</th>\n",
       "      <td>60</td>\n",
       "      <td>RL</td>\n",
       "      <td>68.0</td>\n",
       "      <td>11250</td>\n",
       "      <td>Pave</td>\n",
       "      <td>IR1</td>\n",
       "      <td>Lvl</td>\n",
       "      <td>AllPub</td>\n",
       "      <td>Inside</td>\n",
       "      <td>Gtl</td>\n",
       "      <td>...</td>\n",
       "      <td>0</td>\n",
       "      <td>0</td>\n",
       "      <td>0</td>\n",
       "      <td>0</td>\n",
       "      <td>0</td>\n",
       "      <td>9</td>\n",
       "      <td>2008</td>\n",
       "      <td>WD</td>\n",
       "      <td>Normal</td>\n",
       "      <td>223500</td>\n",
       "    </tr>\n",
       "    <tr>\n",
       "      <th>3</th>\n",
       "      <td>70</td>\n",
       "      <td>RL</td>\n",
       "      <td>60.0</td>\n",
       "      <td>9550</td>\n",
       "      <td>Pave</td>\n",
       "      <td>IR1</td>\n",
       "      <td>Lvl</td>\n",
       "      <td>AllPub</td>\n",
       "      <td>Corner</td>\n",
       "      <td>Gtl</td>\n",
       "      <td>...</td>\n",
       "      <td>272</td>\n",
       "      <td>0</td>\n",
       "      <td>0</td>\n",
       "      <td>0</td>\n",
       "      <td>0</td>\n",
       "      <td>2</td>\n",
       "      <td>2006</td>\n",
       "      <td>WD</td>\n",
       "      <td>Abnorml</td>\n",
       "      <td>140000</td>\n",
       "    </tr>\n",
       "    <tr>\n",
       "      <th>4</th>\n",
       "      <td>60</td>\n",
       "      <td>RL</td>\n",
       "      <td>84.0</td>\n",
       "      <td>14260</td>\n",
       "      <td>Pave</td>\n",
       "      <td>IR1</td>\n",
       "      <td>Lvl</td>\n",
       "      <td>AllPub</td>\n",
       "      <td>FR2</td>\n",
       "      <td>Gtl</td>\n",
       "      <td>...</td>\n",
       "      <td>0</td>\n",
       "      <td>0</td>\n",
       "      <td>0</td>\n",
       "      <td>0</td>\n",
       "      <td>0</td>\n",
       "      <td>12</td>\n",
       "      <td>2008</td>\n",
       "      <td>WD</td>\n",
       "      <td>Normal</td>\n",
       "      <td>250000</td>\n",
       "    </tr>\n",
       "    <tr>\n",
       "      <th>...</th>\n",
       "      <td>...</td>\n",
       "      <td>...</td>\n",
       "      <td>...</td>\n",
       "      <td>...</td>\n",
       "      <td>...</td>\n",
       "      <td>...</td>\n",
       "      <td>...</td>\n",
       "      <td>...</td>\n",
       "      <td>...</td>\n",
       "      <td>...</td>\n",
       "      <td>...</td>\n",
       "      <td>...</td>\n",
       "      <td>...</td>\n",
       "      <td>...</td>\n",
       "      <td>...</td>\n",
       "      <td>...</td>\n",
       "      <td>...</td>\n",
       "      <td>...</td>\n",
       "      <td>...</td>\n",
       "      <td>...</td>\n",
       "      <td>...</td>\n",
       "    </tr>\n",
       "    <tr>\n",
       "      <th>1455</th>\n",
       "      <td>60</td>\n",
       "      <td>RL</td>\n",
       "      <td>62.0</td>\n",
       "      <td>7917</td>\n",
       "      <td>Pave</td>\n",
       "      <td>Reg</td>\n",
       "      <td>Lvl</td>\n",
       "      <td>AllPub</td>\n",
       "      <td>Inside</td>\n",
       "      <td>Gtl</td>\n",
       "      <td>...</td>\n",
       "      <td>0</td>\n",
       "      <td>0</td>\n",
       "      <td>0</td>\n",
       "      <td>0</td>\n",
       "      <td>0</td>\n",
       "      <td>8</td>\n",
       "      <td>2007</td>\n",
       "      <td>WD</td>\n",
       "      <td>Normal</td>\n",
       "      <td>175000</td>\n",
       "    </tr>\n",
       "    <tr>\n",
       "      <th>1456</th>\n",
       "      <td>20</td>\n",
       "      <td>RL</td>\n",
       "      <td>85.0</td>\n",
       "      <td>13175</td>\n",
       "      <td>Pave</td>\n",
       "      <td>Reg</td>\n",
       "      <td>Lvl</td>\n",
       "      <td>AllPub</td>\n",
       "      <td>Inside</td>\n",
       "      <td>Gtl</td>\n",
       "      <td>...</td>\n",
       "      <td>0</td>\n",
       "      <td>0</td>\n",
       "      <td>0</td>\n",
       "      <td>0</td>\n",
       "      <td>0</td>\n",
       "      <td>2</td>\n",
       "      <td>2010</td>\n",
       "      <td>WD</td>\n",
       "      <td>Normal</td>\n",
       "      <td>210000</td>\n",
       "    </tr>\n",
       "    <tr>\n",
       "      <th>1457</th>\n",
       "      <td>70</td>\n",
       "      <td>RL</td>\n",
       "      <td>66.0</td>\n",
       "      <td>9042</td>\n",
       "      <td>Pave</td>\n",
       "      <td>Reg</td>\n",
       "      <td>Lvl</td>\n",
       "      <td>AllPub</td>\n",
       "      <td>Inside</td>\n",
       "      <td>Gtl</td>\n",
       "      <td>...</td>\n",
       "      <td>0</td>\n",
       "      <td>0</td>\n",
       "      <td>0</td>\n",
       "      <td>0</td>\n",
       "      <td>2500</td>\n",
       "      <td>5</td>\n",
       "      <td>2010</td>\n",
       "      <td>WD</td>\n",
       "      <td>Normal</td>\n",
       "      <td>266500</td>\n",
       "    </tr>\n",
       "    <tr>\n",
       "      <th>1458</th>\n",
       "      <td>20</td>\n",
       "      <td>RL</td>\n",
       "      <td>68.0</td>\n",
       "      <td>9717</td>\n",
       "      <td>Pave</td>\n",
       "      <td>Reg</td>\n",
       "      <td>Lvl</td>\n",
       "      <td>AllPub</td>\n",
       "      <td>Inside</td>\n",
       "      <td>Gtl</td>\n",
       "      <td>...</td>\n",
       "      <td>112</td>\n",
       "      <td>0</td>\n",
       "      <td>0</td>\n",
       "      <td>0</td>\n",
       "      <td>0</td>\n",
       "      <td>4</td>\n",
       "      <td>2010</td>\n",
       "      <td>WD</td>\n",
       "      <td>Normal</td>\n",
       "      <td>142125</td>\n",
       "    </tr>\n",
       "    <tr>\n",
       "      <th>1459</th>\n",
       "      <td>20</td>\n",
       "      <td>RL</td>\n",
       "      <td>75.0</td>\n",
       "      <td>9937</td>\n",
       "      <td>Pave</td>\n",
       "      <td>Reg</td>\n",
       "      <td>Lvl</td>\n",
       "      <td>AllPub</td>\n",
       "      <td>Inside</td>\n",
       "      <td>Gtl</td>\n",
       "      <td>...</td>\n",
       "      <td>0</td>\n",
       "      <td>0</td>\n",
       "      <td>0</td>\n",
       "      <td>0</td>\n",
       "      <td>0</td>\n",
       "      <td>6</td>\n",
       "      <td>2008</td>\n",
       "      <td>WD</td>\n",
       "      <td>Normal</td>\n",
       "      <td>147500</td>\n",
       "    </tr>\n",
       "  </tbody>\n",
       "</table>\n",
       "<p>1460 rows × 75 columns</p>\n",
       "</div>"
      ],
      "text/plain": [
       "      MSSubClass MSZoning  LotFrontage  LotArea Street LotShape LandContour  \\\n",
       "0             60       RL         65.0     8450   Pave      Reg         Lvl   \n",
       "1             20       RL         80.0     9600   Pave      Reg         Lvl   \n",
       "2             60       RL         68.0    11250   Pave      IR1         Lvl   \n",
       "3             70       RL         60.0     9550   Pave      IR1         Lvl   \n",
       "4             60       RL         84.0    14260   Pave      IR1         Lvl   \n",
       "...          ...      ...          ...      ...    ...      ...         ...   \n",
       "1455          60       RL         62.0     7917   Pave      Reg         Lvl   \n",
       "1456          20       RL         85.0    13175   Pave      Reg         Lvl   \n",
       "1457          70       RL         66.0     9042   Pave      Reg         Lvl   \n",
       "1458          20       RL         68.0     9717   Pave      Reg         Lvl   \n",
       "1459          20       RL         75.0     9937   Pave      Reg         Lvl   \n",
       "\n",
       "     Utilities LotConfig LandSlope  ... EnclosedPorch 3SsnPorch ScreenPorch  \\\n",
       "0       AllPub    Inside       Gtl  ...             0         0           0   \n",
       "1       AllPub       FR2       Gtl  ...             0         0           0   \n",
       "2       AllPub    Inside       Gtl  ...             0         0           0   \n",
       "3       AllPub    Corner       Gtl  ...           272         0           0   \n",
       "4       AllPub       FR2       Gtl  ...             0         0           0   \n",
       "...        ...       ...       ...  ...           ...       ...         ...   \n",
       "1455    AllPub    Inside       Gtl  ...             0         0           0   \n",
       "1456    AllPub    Inside       Gtl  ...             0         0           0   \n",
       "1457    AllPub    Inside       Gtl  ...             0         0           0   \n",
       "1458    AllPub    Inside       Gtl  ...           112         0           0   \n",
       "1459    AllPub    Inside       Gtl  ...             0         0           0   \n",
       "\n",
       "     PoolArea MiscVal  MoSold  YrSold  SaleType  SaleCondition SalePrice  \n",
       "0           0       0       2    2008        WD         Normal    208500  \n",
       "1           0       0       5    2007        WD         Normal    181500  \n",
       "2           0       0       9    2008        WD         Normal    223500  \n",
       "3           0       0       2    2006        WD        Abnorml    140000  \n",
       "4           0       0      12    2008        WD         Normal    250000  \n",
       "...       ...     ...     ...     ...       ...            ...       ...  \n",
       "1455        0       0       8    2007        WD         Normal    175000  \n",
       "1456        0       0       2    2010        WD         Normal    210000  \n",
       "1457        0    2500       5    2010        WD         Normal    266500  \n",
       "1458        0       0       4    2010        WD         Normal    142125  \n",
       "1459        0       0       6    2008        WD         Normal    147500  \n",
       "\n",
       "[1460 rows x 75 columns]"
      ]
     },
     "execution_count": 18,
     "metadata": {},
     "output_type": "execute_result"
    }
   ],
   "source": [
    "train_df"
   ]
  },
  {
   "cell_type": "code",
   "execution_count": 19,
   "id": "4d9164a7",
   "metadata": {
    "execution": {
     "iopub.execute_input": "2023-05-27T16:44:18.894628Z",
     "iopub.status.busy": "2023-05-27T16:44:18.894268Z",
     "iopub.status.idle": "2023-05-27T16:44:18.920857Z",
     "shell.execute_reply": "2023-05-27T16:44:18.919776Z"
    },
    "papermill": {
     "duration": 0.040852,
     "end_time": "2023-05-27T16:44:18.923115",
     "exception": false,
     "start_time": "2023-05-27T16:44:18.882263",
     "status": "completed"
    },
    "tags": []
   },
   "outputs": [
    {
     "data": {
      "text/html": [
       "<div>\n",
       "<style scoped>\n",
       "    .dataframe tbody tr th:only-of-type {\n",
       "        vertical-align: middle;\n",
       "    }\n",
       "\n",
       "    .dataframe tbody tr th {\n",
       "        vertical-align: top;\n",
       "    }\n",
       "\n",
       "    .dataframe thead th {\n",
       "        text-align: right;\n",
       "    }\n",
       "</style>\n",
       "<table border=\"1\" class=\"dataframe\">\n",
       "  <thead>\n",
       "    <tr style=\"text-align: right;\">\n",
       "      <th></th>\n",
       "      <th>MSSubClass</th>\n",
       "      <th>MSZoning</th>\n",
       "      <th>LotFrontage</th>\n",
       "      <th>LotArea</th>\n",
       "      <th>Street</th>\n",
       "      <th>LotShape</th>\n",
       "      <th>LandContour</th>\n",
       "      <th>Utilities</th>\n",
       "      <th>LotConfig</th>\n",
       "      <th>LandSlope</th>\n",
       "      <th>...</th>\n",
       "      <th>OpenPorchSF</th>\n",
       "      <th>EnclosedPorch</th>\n",
       "      <th>3SsnPorch</th>\n",
       "      <th>ScreenPorch</th>\n",
       "      <th>PoolArea</th>\n",
       "      <th>MiscVal</th>\n",
       "      <th>MoSold</th>\n",
       "      <th>YrSold</th>\n",
       "      <th>SaleType</th>\n",
       "      <th>SaleCondition</th>\n",
       "    </tr>\n",
       "  </thead>\n",
       "  <tbody>\n",
       "    <tr>\n",
       "      <th>0</th>\n",
       "      <td>20</td>\n",
       "      <td>RL</td>\n",
       "      <td>0.0</td>\n",
       "      <td>11622</td>\n",
       "      <td>Pave</td>\n",
       "      <td>Reg</td>\n",
       "      <td>Lvl</td>\n",
       "      <td>AllPub</td>\n",
       "      <td>Inside</td>\n",
       "      <td>Gtl</td>\n",
       "      <td>...</td>\n",
       "      <td>0</td>\n",
       "      <td>0</td>\n",
       "      <td>0</td>\n",
       "      <td>120</td>\n",
       "      <td>0</td>\n",
       "      <td>0</td>\n",
       "      <td>6</td>\n",
       "      <td>2010</td>\n",
       "      <td>WD</td>\n",
       "      <td>Normal</td>\n",
       "    </tr>\n",
       "    <tr>\n",
       "      <th>1</th>\n",
       "      <td>20</td>\n",
       "      <td>RL</td>\n",
       "      <td>108.0</td>\n",
       "      <td>14267</td>\n",
       "      <td>Pave</td>\n",
       "      <td>IR1</td>\n",
       "      <td>Lvl</td>\n",
       "      <td>AllPub</td>\n",
       "      <td>Corner</td>\n",
       "      <td>Gtl</td>\n",
       "      <td>...</td>\n",
       "      <td>36</td>\n",
       "      <td>0</td>\n",
       "      <td>0</td>\n",
       "      <td>0</td>\n",
       "      <td>0</td>\n",
       "      <td>12500</td>\n",
       "      <td>6</td>\n",
       "      <td>2010</td>\n",
       "      <td>WD</td>\n",
       "      <td>Normal</td>\n",
       "    </tr>\n",
       "    <tr>\n",
       "      <th>2</th>\n",
       "      <td>60</td>\n",
       "      <td>RL</td>\n",
       "      <td>0.0</td>\n",
       "      <td>13830</td>\n",
       "      <td>Pave</td>\n",
       "      <td>IR1</td>\n",
       "      <td>Lvl</td>\n",
       "      <td>AllPub</td>\n",
       "      <td>Inside</td>\n",
       "      <td>Gtl</td>\n",
       "      <td>...</td>\n",
       "      <td>34</td>\n",
       "      <td>0</td>\n",
       "      <td>0</td>\n",
       "      <td>0</td>\n",
       "      <td>0</td>\n",
       "      <td>0</td>\n",
       "      <td>3</td>\n",
       "      <td>2010</td>\n",
       "      <td>WD</td>\n",
       "      <td>Normal</td>\n",
       "    </tr>\n",
       "    <tr>\n",
       "      <th>3</th>\n",
       "      <td>60</td>\n",
       "      <td>RL</td>\n",
       "      <td>20.0</td>\n",
       "      <td>9978</td>\n",
       "      <td>Pave</td>\n",
       "      <td>IR1</td>\n",
       "      <td>Lvl</td>\n",
       "      <td>AllPub</td>\n",
       "      <td>Inside</td>\n",
       "      <td>Gtl</td>\n",
       "      <td>...</td>\n",
       "      <td>36</td>\n",
       "      <td>0</td>\n",
       "      <td>0</td>\n",
       "      <td>0</td>\n",
       "      <td>0</td>\n",
       "      <td>0</td>\n",
       "      <td>6</td>\n",
       "      <td>2010</td>\n",
       "      <td>WD</td>\n",
       "      <td>Normal</td>\n",
       "    </tr>\n",
       "    <tr>\n",
       "      <th>4</th>\n",
       "      <td>120</td>\n",
       "      <td>RL</td>\n",
       "      <td>0.0</td>\n",
       "      <td>5005</td>\n",
       "      <td>Pave</td>\n",
       "      <td>IR1</td>\n",
       "      <td>HLS</td>\n",
       "      <td>AllPub</td>\n",
       "      <td>Inside</td>\n",
       "      <td>Gtl</td>\n",
       "      <td>...</td>\n",
       "      <td>82</td>\n",
       "      <td>0</td>\n",
       "      <td>0</td>\n",
       "      <td>144</td>\n",
       "      <td>0</td>\n",
       "      <td>0</td>\n",
       "      <td>1</td>\n",
       "      <td>2010</td>\n",
       "      <td>WD</td>\n",
       "      <td>Normal</td>\n",
       "    </tr>\n",
       "    <tr>\n",
       "      <th>...</th>\n",
       "      <td>...</td>\n",
       "      <td>...</td>\n",
       "      <td>...</td>\n",
       "      <td>...</td>\n",
       "      <td>...</td>\n",
       "      <td>...</td>\n",
       "      <td>...</td>\n",
       "      <td>...</td>\n",
       "      <td>...</td>\n",
       "      <td>...</td>\n",
       "      <td>...</td>\n",
       "      <td>...</td>\n",
       "      <td>...</td>\n",
       "      <td>...</td>\n",
       "      <td>...</td>\n",
       "      <td>...</td>\n",
       "      <td>...</td>\n",
       "      <td>...</td>\n",
       "      <td>...</td>\n",
       "      <td>...</td>\n",
       "      <td>...</td>\n",
       "    </tr>\n",
       "    <tr>\n",
       "      <th>1454</th>\n",
       "      <td>160</td>\n",
       "      <td>FV</td>\n",
       "      <td>0.0</td>\n",
       "      <td>1936</td>\n",
       "      <td>Pave</td>\n",
       "      <td>Reg</td>\n",
       "      <td>Lvl</td>\n",
       "      <td>AllPub</td>\n",
       "      <td>Inside</td>\n",
       "      <td>Gtl</td>\n",
       "      <td>...</td>\n",
       "      <td>0</td>\n",
       "      <td>0</td>\n",
       "      <td>0</td>\n",
       "      <td>0</td>\n",
       "      <td>0</td>\n",
       "      <td>0</td>\n",
       "      <td>6</td>\n",
       "      <td>2006</td>\n",
       "      <td>WD</td>\n",
       "      <td>Normal</td>\n",
       "    </tr>\n",
       "    <tr>\n",
       "      <th>1455</th>\n",
       "      <td>160</td>\n",
       "      <td>RL</td>\n",
       "      <td>0.0</td>\n",
       "      <td>1894</td>\n",
       "      <td>Pave</td>\n",
       "      <td>Reg</td>\n",
       "      <td>Lvl</td>\n",
       "      <td>AllPub</td>\n",
       "      <td>Inside</td>\n",
       "      <td>Gtl</td>\n",
       "      <td>...</td>\n",
       "      <td>24</td>\n",
       "      <td>0</td>\n",
       "      <td>0</td>\n",
       "      <td>0</td>\n",
       "      <td>0</td>\n",
       "      <td>0</td>\n",
       "      <td>4</td>\n",
       "      <td>2006</td>\n",
       "      <td>WD</td>\n",
       "      <td>Abnorml</td>\n",
       "    </tr>\n",
       "    <tr>\n",
       "      <th>1456</th>\n",
       "      <td>20</td>\n",
       "      <td>RL</td>\n",
       "      <td>0.0</td>\n",
       "      <td>20000</td>\n",
       "      <td>Pave</td>\n",
       "      <td>Reg</td>\n",
       "      <td>Lvl</td>\n",
       "      <td>AllPub</td>\n",
       "      <td>Inside</td>\n",
       "      <td>Gtl</td>\n",
       "      <td>...</td>\n",
       "      <td>0</td>\n",
       "      <td>0</td>\n",
       "      <td>0</td>\n",
       "      <td>0</td>\n",
       "      <td>0</td>\n",
       "      <td>0</td>\n",
       "      <td>9</td>\n",
       "      <td>2006</td>\n",
       "      <td>WD</td>\n",
       "      <td>Abnorml</td>\n",
       "    </tr>\n",
       "    <tr>\n",
       "      <th>1457</th>\n",
       "      <td>85</td>\n",
       "      <td>RL</td>\n",
       "      <td>0.0</td>\n",
       "      <td>10441</td>\n",
       "      <td>Pave</td>\n",
       "      <td>Reg</td>\n",
       "      <td>Lvl</td>\n",
       "      <td>AllPub</td>\n",
       "      <td>Inside</td>\n",
       "      <td>Gtl</td>\n",
       "      <td>...</td>\n",
       "      <td>32</td>\n",
       "      <td>0</td>\n",
       "      <td>0</td>\n",
       "      <td>0</td>\n",
       "      <td>0</td>\n",
       "      <td>700</td>\n",
       "      <td>7</td>\n",
       "      <td>2006</td>\n",
       "      <td>WD</td>\n",
       "      <td>Normal</td>\n",
       "    </tr>\n",
       "    <tr>\n",
       "      <th>1458</th>\n",
       "      <td>60</td>\n",
       "      <td>RL</td>\n",
       "      <td>94.0</td>\n",
       "      <td>9627</td>\n",
       "      <td>Pave</td>\n",
       "      <td>Reg</td>\n",
       "      <td>Lvl</td>\n",
       "      <td>AllPub</td>\n",
       "      <td>Inside</td>\n",
       "      <td>Mod</td>\n",
       "      <td>...</td>\n",
       "      <td>48</td>\n",
       "      <td>0</td>\n",
       "      <td>0</td>\n",
       "      <td>0</td>\n",
       "      <td>0</td>\n",
       "      <td>0</td>\n",
       "      <td>11</td>\n",
       "      <td>2006</td>\n",
       "      <td>WD</td>\n",
       "      <td>Normal</td>\n",
       "    </tr>\n",
       "  </tbody>\n",
       "</table>\n",
       "<p>1459 rows × 74 columns</p>\n",
       "</div>"
      ],
      "text/plain": [
       "      MSSubClass MSZoning  LotFrontage  LotArea Street LotShape LandContour  \\\n",
       "0             20       RL          0.0    11622   Pave      Reg         Lvl   \n",
       "1             20       RL        108.0    14267   Pave      IR1         Lvl   \n",
       "2             60       RL          0.0    13830   Pave      IR1         Lvl   \n",
       "3             60       RL         20.0     9978   Pave      IR1         Lvl   \n",
       "4            120       RL          0.0     5005   Pave      IR1         HLS   \n",
       "...          ...      ...          ...      ...    ...      ...         ...   \n",
       "1454         160       FV          0.0     1936   Pave      Reg         Lvl   \n",
       "1455         160       RL          0.0     1894   Pave      Reg         Lvl   \n",
       "1456          20       RL          0.0    20000   Pave      Reg         Lvl   \n",
       "1457          85       RL          0.0    10441   Pave      Reg         Lvl   \n",
       "1458          60       RL         94.0     9627   Pave      Reg         Lvl   \n",
       "\n",
       "     Utilities LotConfig LandSlope  ... OpenPorchSF EnclosedPorch 3SsnPorch  \\\n",
       "0       AllPub    Inside       Gtl  ...           0             0         0   \n",
       "1       AllPub    Corner       Gtl  ...          36             0         0   \n",
       "2       AllPub    Inside       Gtl  ...          34             0         0   \n",
       "3       AllPub    Inside       Gtl  ...          36             0         0   \n",
       "4       AllPub    Inside       Gtl  ...          82             0         0   \n",
       "...        ...       ...       ...  ...         ...           ...       ...   \n",
       "1454    AllPub    Inside       Gtl  ...           0             0         0   \n",
       "1455    AllPub    Inside       Gtl  ...          24             0         0   \n",
       "1456    AllPub    Inside       Gtl  ...           0             0         0   \n",
       "1457    AllPub    Inside       Gtl  ...          32             0         0   \n",
       "1458    AllPub    Inside       Mod  ...          48             0         0   \n",
       "\n",
       "     ScreenPorch PoolArea  MiscVal  MoSold  YrSold  SaleType SaleCondition  \n",
       "0            120        0        0       6    2010        WD        Normal  \n",
       "1              0        0    12500       6    2010        WD        Normal  \n",
       "2              0        0        0       3    2010        WD        Normal  \n",
       "3              0        0        0       6    2010        WD        Normal  \n",
       "4            144        0        0       1    2010        WD        Normal  \n",
       "...          ...      ...      ...     ...     ...       ...           ...  \n",
       "1454           0        0        0       6    2006        WD        Normal  \n",
       "1455           0        0        0       4    2006        WD       Abnorml  \n",
       "1456           0        0        0       9    2006        WD       Abnorml  \n",
       "1457           0        0      700       7    2006        WD        Normal  \n",
       "1458           0        0        0      11    2006        WD        Normal  \n",
       "\n",
       "[1459 rows x 74 columns]"
      ]
     },
     "execution_count": 19,
     "metadata": {},
     "output_type": "execute_result"
    }
   ],
   "source": [
    "test_df"
   ]
  },
  {
   "cell_type": "code",
   "execution_count": 20,
   "id": "78a461ad",
   "metadata": {
    "execution": {
     "iopub.execute_input": "2023-05-27T16:44:18.947857Z",
     "iopub.status.busy": "2023-05-27T16:44:18.947455Z",
     "iopub.status.idle": "2023-05-27T16:44:18.954782Z",
     "shell.execute_reply": "2023-05-27T16:44:18.953841Z"
    },
    "papermill": {
     "duration": 0.022286,
     "end_time": "2023-05-27T16:44:18.956671",
     "exception": false,
     "start_time": "2023-05-27T16:44:18.934385",
     "status": "completed"
    },
    "tags": []
   },
   "outputs": [
    {
     "data": {
      "text/plain": [
       "Index(['MSSubClass', 'MSZoning', 'LotFrontage', 'LotArea', 'Street',\n",
       "       'LotShape', 'LandContour', 'Utilities', 'LotConfig', 'LandSlope',\n",
       "       'Neighborhood', 'Condition1', 'Condition2', 'BldgType', 'HouseStyle',\n",
       "       'OverallQual', 'OverallCond', 'YearBuilt', 'YearRemodAdd', 'RoofStyle',\n",
       "       'RoofMatl', 'Exterior1st', 'Exterior2nd', 'MasVnrType', 'MasVnrArea',\n",
       "       'ExterQual', 'ExterCond', 'Foundation', 'BsmtQual', 'BsmtCond',\n",
       "       'BsmtExposure', 'BsmtFinType1', 'BsmtFinSF1', 'BsmtFinType2',\n",
       "       'BsmtFinSF2', 'BsmtUnfSF', 'TotalBsmtSF', 'Heating', 'HeatingQC',\n",
       "       'CentralAir', 'Electrical', '1stFlrSF', '2ndFlrSF', 'LowQualFinSF',\n",
       "       'GrLivArea', 'BsmtFullBath', 'BsmtHalfBath', 'FullBath', 'HalfBath',\n",
       "       'BedroomAbvGr', 'KitchenAbvGr', 'KitchenQual', 'TotRmsAbvGrd',\n",
       "       'Functional', 'Fireplaces', 'GarageType', 'GarageYrBlt', 'GarageFinish',\n",
       "       'GarageCars', 'GarageArea', 'GarageQual', 'GarageCond', 'PavedDrive',\n",
       "       'WoodDeckSF', 'OpenPorchSF', 'EnclosedPorch', '3SsnPorch',\n",
       "       'ScreenPorch', 'PoolArea', 'MiscVal', 'MoSold', 'YrSold', 'SaleType',\n",
       "       'SaleCondition', 'SalePrice'],\n",
       "      dtype='object')"
      ]
     },
     "execution_count": 20,
     "metadata": {},
     "output_type": "execute_result"
    }
   ],
   "source": [
    "numerical_cols  = train_df.select_dtypes(include=['int64','float64'])\n",
    "train_df.columns"
   ]
  },
  {
   "cell_type": "code",
   "execution_count": 21,
   "id": "5f7a9e5a",
   "metadata": {
    "execution": {
     "iopub.execute_input": "2023-05-27T16:44:18.981237Z",
     "iopub.status.busy": "2023-05-27T16:44:18.980142Z",
     "iopub.status.idle": "2023-05-27T16:44:18.989315Z",
     "shell.execute_reply": "2023-05-27T16:44:18.988263Z"
    },
    "papermill": {
     "duration": 0.023887,
     "end_time": "2023-05-27T16:44:18.991709",
     "exception": false,
     "start_time": "2023-05-27T16:44:18.967822",
     "status": "completed"
    },
    "tags": []
   },
   "outputs": [],
   "source": [
    "X = train_df[['MSSubClass', 'LotFrontage', 'LotArea', 'OverallQual',\n",
    "       'OverallCond', 'YearBuilt', 'YearRemodAdd', 'MasVnrArea', 'BsmtFinSF1',\n",
    "       'BsmtFinSF2', 'BsmtUnfSF', 'TotalBsmtSF', '1stFlrSF', '2ndFlrSF',\n",
    "       'LowQualFinSF', 'GrLivArea', 'BsmtFullBath', 'BsmtHalfBath', 'FullBath',\n",
    "       'HalfBath', 'BedroomAbvGr', 'KitchenAbvGr', 'TotRmsAbvGrd',\n",
    "       'Fireplaces', 'GarageYrBlt', 'GarageCars', 'GarageArea', 'WoodDeckSF',\n",
    "       'OpenPorchSF', 'EnclosedPorch', '3SsnPorch', 'ScreenPorch', 'PoolArea',\n",
    "       'MiscVal', 'MoSold', 'YrSold']]\n",
    "y = train_df['SalePrice']"
   ]
  },
  {
   "cell_type": "code",
   "execution_count": 22,
   "id": "cc267b61",
   "metadata": {
    "execution": {
     "iopub.execute_input": "2023-05-27T16:44:19.017924Z",
     "iopub.status.busy": "2023-05-27T16:44:19.017504Z",
     "iopub.status.idle": "2023-05-27T16:44:21.038566Z",
     "shell.execute_reply": "2023-05-27T16:44:21.037463Z"
    },
    "papermill": {
     "duration": 2.037909,
     "end_time": "2023-05-27T16:44:21.040982",
     "exception": false,
     "start_time": "2023-05-27T16:44:19.003073",
     "status": "completed"
    },
    "tags": []
   },
   "outputs": [
    {
     "data": {
      "text/plain": [
       "RandomForestRegressor()"
      ]
     },
     "execution_count": 22,
     "metadata": {},
     "output_type": "execute_result"
    }
   ],
   "source": [
    "from sklearn.model_selection import train_test_split\n",
    "X_train, X_test, y_train, y_test = train_test_split(X, y, test_size=0.2, random_state=42)\n",
    "from sklearn.ensemble import RandomForestRegressor\n",
    "rf = RandomForestRegressor()\n",
    "rf.fit(X_train,y_train)"
   ]
  },
  {
   "cell_type": "code",
   "execution_count": 23,
   "id": "5f2735e3",
   "metadata": {
    "execution": {
     "iopub.execute_input": "2023-05-27T16:44:21.066759Z",
     "iopub.status.busy": "2023-05-27T16:44:21.066094Z",
     "iopub.status.idle": "2023-05-27T16:44:21.091946Z",
     "shell.execute_reply": "2023-05-27T16:44:21.090806Z"
    },
    "papermill": {
     "duration": 0.041273,
     "end_time": "2023-05-27T16:44:21.094108",
     "exception": false,
     "start_time": "2023-05-27T16:44:21.052835",
     "status": "completed"
    },
    "tags": []
   },
   "outputs": [
    {
     "data": {
      "text/plain": [
       "array([140686.75      , 326719.84      , 113822.        , 154740.64      ,\n",
       "       311902.19      ,  81724.        , 205583.99      , 150644.5       ,\n",
       "        81349.83      , 128235.19      , 153865.65      , 122104.49      ,\n",
       "       101298.        , 203333.99      , 179700.        , 129148.        ,\n",
       "       194853.95      , 134467.75      , 114340.5       , 202303.15      ,\n",
       "       163001.55      , 226520.94      , 176361.02      , 121380.85      ,\n",
       "       196050.85      , 174065.52      , 181295.86      , 100498.        ,\n",
       "       176990.32      , 190916.84      , 120847.54      , 251979.31      ,\n",
       "       168051.2       , 111206.        , 269083.98      , 144525.        ,\n",
       "       136568.86      , 205797.74      , 313728.38      , 103248.98      ,\n",
       "       121580.5       , 236800.        , 119152.        , 355501.98      ,\n",
       "       138125.3       , 155285.44      , 115303.49      , 129314.93      ,\n",
       "       405403.44      , 147764.54      , 120320.75      , 185547.5       ,\n",
       "       123000.54      , 348365.37      , 140804.1       , 243688.16      ,\n",
       "       191218.3       , 152616.        , 147377.32      , 109540.83      ,\n",
       "        80678.        , 151839.74      , 309408.24      , 285135.27      ,\n",
       "       266230.53      , 218442.5       , 112132.5       , 325817.37      ,\n",
       "       113736.5       , 163857.72      , 126283.23      , 131120.25      ,\n",
       "       111747.5       ,  93212.        , 425545.6       , 168468.77      ,\n",
       "       320732.01      , 294646.75      , 134874.        , 122319.        ,\n",
       "       102807.        , 102584.5       , 122738.        , 104729.03      ,\n",
       "       155998.54      , 132280.52      , 259555.02      , 189235.81      ,\n",
       "       138988.73333333, 174595.11      , 148279.68      , 159823.92      ,\n",
       "       123168.        , 255876.72      , 129227.46      , 175282.89      ,\n",
       "       180783.35      , 166169.81      , 220558.12      , 234862.        ,\n",
       "       173596.        , 208185.25      , 268089.8       , 142036.66      ,\n",
       "       179517.        , 155668.5       , 145981.        , 277031.28      ,\n",
       "       141134.5       , 182398.36      ,  63551.5       , 130251.        ,\n",
       "       134919.25      , 136140.63      , 216079.49      , 114456.33      ,\n",
       "       110750.        , 109786.83      , 158707.87      , 289721.27      ,\n",
       "       140536.67      , 141111.41666667, 177399.82      , 179779.13      ,\n",
       "       172300.64      , 130080.83      , 242677.48      , 110034.        ,\n",
       "       140700.9       , 172641.4       , 187620.37      , 351628.01      ,\n",
       "       208078.65      , 142501.28      ,  73683.        , 331953.02      ,\n",
       "       374327.07      , 126770.8       , 231982.36      , 580937.6       ,\n",
       "       351909.33      , 124600.83      , 181220.25      , 161378.5       ,\n",
       "       138942.5       , 116368.95      , 210629.81      , 194221.94      ,\n",
       "       129349.66666667,  67271.        , 111476.25      , 141985.83      ,\n",
       "       213230.36      , 156619.5       , 100790.5       , 135952.11      ,\n",
       "       137716.67      , 146095.14      ,  80558.        , 135358.85      ,\n",
       "       219518.35      , 149286.81      , 319526.43      , 158546.43      ,\n",
       "       114782.17      , 127276.83      , 213746.7       , 337957.12      ,\n",
       "       411395.9       , 228707.28      , 352363.59      ,  97781.        ,\n",
       "       125735.28      , 160463.18      , 335255.74      , 145047.21      ,\n",
       "       138491.84      , 204877.59      , 119362.97      , 169938.        ,\n",
       "       158912.        , 105771.75      , 135620.1       , 142857.19      ,\n",
       "       278554.33      , 159026.57      , 303391.72      , 198344.88      ,\n",
       "       194282.93      ,  88245.        , 129187.5       , 112087.75      ,\n",
       "       124327.        , 144676.        , 186117.98      , 155550.87      ,\n",
       "       219959.76      , 102791.        , 203616.16      , 110254.5       ,\n",
       "       212044.77      , 185901.4       , 122713.03      , 341099.9       ,\n",
       "       186722.99      , 127047.33      , 245877.38      , 140062.5       ,\n",
       "       151021.77      , 114704.83      , 231019.56      , 145090.76      ,\n",
       "       121339.5       , 162639.1       , 180661.38      , 290868.29      ,\n",
       "       179319.92      , 138622.5       , 124152.75      , 135519.39      ,\n",
       "       140822.76666667, 227714.9       , 179231.        , 105777.25      ,\n",
       "       242667.83      , 146338.75      , 100515.        , 111829.        ,\n",
       "       171561.84      , 106905.33      , 101654.5       , 183669.65      ,\n",
       "       120737.        , 140139.75      , 235130.75      , 133546.74      ,\n",
       "       194407.3       , 143174.92      , 242614.45      , 124633.        ,\n",
       "       111376.5       , 242470.5       , 210719.46      , 375902.05      ,\n",
       "       180814.        , 122557.59      , 153941.09      , 156672.45      ,\n",
       "       142817.75      , 101118.34      , 167994.85      , 170570.        ,\n",
       "       139974.7       ,  90223.58      , 146716.        , 142470.25      ,\n",
       "       117439.32      , 114028.08      , 178483.14      , 278120.85      ,\n",
       "       320823.15      , 155783.5       , 127807.41333333, 209204.3       ,\n",
       "       244727.92      , 208020.1       , 170523.25      , 140428.36666667,\n",
       "       120013.        , 167795.2       , 370655.44      , 214983.06      ,\n",
       "       235560.09      , 107368.32      , 107753.69      , 142280.7       ,\n",
       "       138086.37      , 301820.78      , 191840.7       , 150731.        ,\n",
       "       208819.1       ,  91349.5       , 190967.55      , 110276.75      ,\n",
       "       321357.41      , 164776.5       , 223555.4       , 120779.05      ,\n",
       "       235587.42      , 178911.71      , 134736.74      , 114496.83      ])"
      ]
     },
     "execution_count": 23,
     "metadata": {},
     "output_type": "execute_result"
    }
   ],
   "source": [
    "pred = rf.predict(X_test)\n",
    "pred"
   ]
  },
  {
   "cell_type": "code",
   "execution_count": 24,
   "id": "09ababf3",
   "metadata": {
    "execution": {
     "iopub.execute_input": "2023-05-27T16:44:21.120251Z",
     "iopub.status.busy": "2023-05-27T16:44:21.119202Z",
     "iopub.status.idle": "2023-05-27T16:44:21.146797Z",
     "shell.execute_reply": "2023-05-27T16:44:21.145981Z"
    },
    "papermill": {
     "duration": 0.042811,
     "end_time": "2023-05-27T16:44:21.148923",
     "exception": false,
     "start_time": "2023-05-27T16:44:21.106112",
     "status": "completed"
    },
    "tags": []
   },
   "outputs": [
    {
     "data": {
      "text/plain": [
       "0.8861392198624167"
      ]
     },
     "execution_count": 24,
     "metadata": {},
     "output_type": "execute_result"
    }
   ],
   "source": [
    "rf.score(X_test,y_test)"
   ]
  },
  {
   "cell_type": "code",
   "execution_count": 25,
   "id": "32a7f8fa",
   "metadata": {
    "execution": {
     "iopub.execute_input": "2023-05-27T16:44:21.175530Z",
     "iopub.status.busy": "2023-05-27T16:44:21.174448Z",
     "iopub.status.idle": "2023-05-27T16:44:21.183293Z",
     "shell.execute_reply": "2023-05-27T16:44:21.182251Z"
    },
    "papermill": {
     "duration": 0.024341,
     "end_time": "2023-05-27T16:44:21.185392",
     "exception": false,
     "start_time": "2023-05-27T16:44:21.161051",
     "status": "completed"
    },
    "tags": []
   },
   "outputs": [
    {
     "data": {
      "text/plain": [
       "Index(['MSSubClass', 'LotFrontage', 'LotArea', 'OverallQual', 'OverallCond',\n",
       "       'YearBuilt', 'YearRemodAdd', 'MasVnrArea', 'BsmtFinSF1', 'BsmtFinSF2',\n",
       "       'BsmtUnfSF', 'TotalBsmtSF', '1stFlrSF', '2ndFlrSF', 'LowQualFinSF',\n",
       "       'GrLivArea', 'BsmtFullBath', 'BsmtHalfBath', 'FullBath', 'HalfBath',\n",
       "       'BedroomAbvGr', 'KitchenAbvGr', 'TotRmsAbvGrd', 'Fireplaces',\n",
       "       'GarageYrBlt', 'GarageCars', 'GarageArea', 'WoodDeckSF', 'OpenPorchSF',\n",
       "       'EnclosedPorch', '3SsnPorch', 'ScreenPorch', 'PoolArea', 'MiscVal',\n",
       "       'MoSold', 'YrSold'],\n",
       "      dtype='object')"
      ]
     },
     "execution_count": 25,
     "metadata": {},
     "output_type": "execute_result"
    }
   ],
   "source": [
    "numerical_test_cols  = test_df.select_dtypes(include=['int64','float64'])\n",
    "numerical_test_cols.columns"
   ]
  },
  {
   "cell_type": "code",
   "execution_count": 26,
   "id": "4b3e9347",
   "metadata": {
    "execution": {
     "iopub.execute_input": "2023-05-27T16:44:21.211992Z",
     "iopub.status.busy": "2023-05-27T16:44:21.211263Z",
     "iopub.status.idle": "2023-05-27T16:44:21.220651Z",
     "shell.execute_reply": "2023-05-27T16:44:21.219835Z"
    },
    "papermill": {
     "duration": 0.025188,
     "end_time": "2023-05-27T16:44:21.222915",
     "exception": false,
     "start_time": "2023-05-27T16:44:21.197727",
     "status": "completed"
    },
    "tags": []
   },
   "outputs": [],
   "source": [
    "x_val = test_df[['MSSubClass', 'LotFrontage', 'LotArea', 'OverallQual', 'OverallCond',\n",
    "       'YearBuilt', 'YearRemodAdd', 'MasVnrArea', 'BsmtFinSF1', 'BsmtFinSF2',\n",
    "       'BsmtUnfSF', 'TotalBsmtSF', '1stFlrSF', '2ndFlrSF', 'LowQualFinSF',\n",
    "       'GrLivArea', 'BsmtFullBath', 'BsmtHalfBath', 'FullBath', 'HalfBath',\n",
    "       'BedroomAbvGr', 'KitchenAbvGr', 'TotRmsAbvGrd', 'Fireplaces',\n",
    "       'GarageYrBlt', 'GarageCars', 'GarageArea', 'WoodDeckSF', 'OpenPorchSF',\n",
    "       'EnclosedPorch', '3SsnPorch', 'ScreenPorch', 'PoolArea', 'MiscVal',\n",
    "       'MoSold', 'YrSold']]"
   ]
  },
  {
   "cell_type": "code",
   "execution_count": 27,
   "id": "ae8e629c",
   "metadata": {
    "execution": {
     "iopub.execute_input": "2023-05-27T16:44:21.250000Z",
     "iopub.status.busy": "2023-05-27T16:44:21.249226Z",
     "iopub.status.idle": "2023-05-27T16:44:21.286970Z",
     "shell.execute_reply": "2023-05-27T16:44:21.286015Z"
    },
    "papermill": {
     "duration": 0.054212,
     "end_time": "2023-05-27T16:44:21.289416",
     "exception": false,
     "start_time": "2023-05-27T16:44:21.235204",
     "status": "completed"
    },
    "tags": []
   },
   "outputs": [],
   "source": [
    "pred_rf = rf.predict(x_val)"
   ]
  },
  {
   "cell_type": "code",
   "execution_count": 28,
   "id": "dc900463",
   "metadata": {
    "execution": {
     "iopub.execute_input": "2023-05-27T16:44:21.316357Z",
     "iopub.status.busy": "2023-05-27T16:44:21.315606Z",
     "iopub.status.idle": "2023-05-27T16:44:21.339837Z",
     "shell.execute_reply": "2023-05-27T16:44:21.338728Z"
    },
    "papermill": {
     "duration": 0.040599,
     "end_time": "2023-05-27T16:44:21.342424",
     "exception": false,
     "start_time": "2023-05-27T16:44:21.301825",
     "status": "completed"
    },
    "tags": []
   },
   "outputs": [],
   "source": [
    "pred=pd.DataFrame(pred_rf)\n",
    "\n",
    "Directory=pd.read_csv('sample_submission.csv')\n",
    "\n",
    "datasets=pd.concat([Directory['Id'],pred],axis=1)\n",
    "\n",
    "datasets.columns=['Id','SalePrice']\n",
    "\n",
    "datasets.to_csv('submission.csv',index=False)"
   ]
  },
  {
   "cell_type": "code",
   "execution_count": null,
   "id": "f33c1cc2",
   "metadata": {
    "papermill": {
     "duration": 0.011972,
     "end_time": "2023-05-27T16:44:21.366888",
     "exception": false,
     "start_time": "2023-05-27T16:44:21.354916",
     "status": "completed"
    },
    "tags": []
   },
   "outputs": [],
   "source": []
  },
  {
   "cell_type": "code",
   "execution_count": null,
   "id": "893e0e19",
   "metadata": {},
   "outputs": [],
   "source": []
  }
 ],
 "metadata": {
  "kernelspec": {
   "display_name": "Python 3 (ipykernel)",
   "language": "python",
   "name": "python3"
  },
  "language_info": {
   "codemirror_mode": {
    "name": "ipython",
    "version": 3
   },
   "file_extension": ".py",
   "mimetype": "text/x-python",
   "name": "python",
   "nbconvert_exporter": "python",
   "pygments_lexer": "ipython3",
   "version": "3.9.13"
  },
  "papermill": {
   "default_parameters": {},
   "duration": 17.556226,
   "end_time": "2023-05-27T16:44:22.401062",
   "environment_variables": {},
   "exception": null,
   "input_path": "__notebook__.ipynb",
   "output_path": "__notebook__.ipynb",
   "parameters": {},
   "start_time": "2023-05-27T16:44:04.844836",
   "version": "2.4.0"
  }
 },
 "nbformat": 4,
 "nbformat_minor": 5
}
