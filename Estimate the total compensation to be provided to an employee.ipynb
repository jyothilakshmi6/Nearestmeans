{
 "cells": [
  {
   "cell_type": "code",
   "execution_count": 2,
   "id": "c591959c",
   "metadata": {},
   "outputs": [],
   "source": [
    "import pandas as pd\n",
    "from sklearn.model_selection import train_test_split\n",
    "from sklearn.linear_model import LinearRegression\n",
    "from sklearn.metrics import mean_squared_error"
   ]
  },
  {
   "cell_type": "code",
   "execution_count": null,
   "id": "2da0940b",
   "metadata": {},
   "outputs": [],
   "source": [
    "# Step 1: Data Preprocessing\n",
    "data = pd.read_csv('train_set.csv')  # Replace 'employee_data.csv' with the actual file name"
   ]
  },
  {
   "cell_type": "code",
   "execution_count": null,
   "id": "40955b7a",
   "metadata": {},
   "outputs": [],
   "source": [
    "# Handle missing values if any\n",
    "data = data.dropna()"
   ]
  },
  {
   "cell_type": "code",
   "execution_count": null,
   "id": "d43f419d",
   "metadata": {},
   "outputs": [],
   "source": [
    "# Perform feature encoding if required\n",
    "data_encoded = pd.get_dummies(data)"
   ]
  },
  {
   "cell_type": "code",
   "execution_count": null,
   "id": "1f40b186",
   "metadata": {},
   "outputs": [],
   "source": [
    "# Split features and target variable\n",
    "X = data_encoded.drop('Total_Compensation', axis=1)\n",
    "y = data_encoded['Total_Compensation']"
   ]
  },
  {
   "cell_type": "code",
   "execution_count": null,
   "id": "2465dc12",
   "metadata": {},
   "outputs": [],
   "source": [
    "# Step 2: Split the Data\n",
    "X_train, X_test, y_train, y_test = train_test_split(X, y, test_size=0.2, random_state=42)"
   ]
  },
  {
   "cell_type": "code",
   "execution_count": null,
   "id": "3f32ff7a",
   "metadata": {},
   "outputs": [],
   "source": [
    "# Step 3: Model Selection\n",
    "model = LinearRegression()  # You can replace this with another regression model if desired"
   ]
  },
  {
   "cell_type": "code",
   "execution_count": null,
   "id": "c94d40a0",
   "metadata": {},
   "outputs": [],
   "source": [
    "# Step 4: Model Training\n",
    "model.fit(X_train, y_train)"
   ]
  },
  {
   "cell_type": "code",
   "execution_count": null,
   "id": "0e0a1c8a",
   "metadata": {},
   "outputs": [],
   "source": [
    "# Step 5: Model Evaluation\n",
    "y_pred = model.predict(X_test)\n",
    "mse = mean_squared_error(y_test, y_pred)\n",
    "rmse = mse ** 0.5\n",
    "print(f\"Root Mean Squared Error: {rmse}\")"
   ]
  },
  {
   "cell_type": "code",
   "execution_count": null,
   "id": "ee1a6162",
   "metadata": {},
   "outputs": [],
   "source": [
    "# Example: Predicting total compensation for a new employee\n",
    "new_employee_data = pd.DataFrame({\n",
    "    'Year' : [2004],\n",
    "    'OG' : ['General Administration'],\n",
    "    'OGC': [4],\n",
    "    'DC': ['Treasurer/Tax Collector'],\n",
    "    'Dept': ['Human Resources'],\n",
    "    'UC': [456],\n",
    "    'Union': ['SEIU - Health Workers, Local 1021'],\n",
    "    'JF': ['Revenue'],\n",
    "    'Job': ['Senior Collections Officer'],\n",
    "    'Salaries': [50000],\n",
    "    'Overtime': [2000],\n",
    "    'H/D': [1000],\n",
    "    'YT': ['Calendar']\n",
    "})\n",
    "new_employee_data_encoded = pd.get_dummies(new_employee_data)\n",
    "estimated_total_compensation = model.predict(new_employee_data_encoded)\n",
    "print(f\"Estimated Total Compensation: {estimated_total_compensation[0]}\")"
   ]
  }
 ],
 "metadata": {
  "kernelspec": {
   "display_name": "Python 3 (ipykernel)",
   "language": "python",
   "name": "python3"
  },
  "language_info": {
   "codemirror_mode": {
    "name": "ipython",
    "version": 3
   },
   "file_extension": ".py",
   "mimetype": "text/x-python",
   "name": "python",
   "nbconvert_exporter": "python",
   "pygments_lexer": "ipython3",
   "version": "3.9.13"
  }
 },
 "nbformat": 4,
 "nbformat_minor": 5
}
